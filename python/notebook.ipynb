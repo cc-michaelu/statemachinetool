{
 "cells": [
  {
   "cell_type": "code",
   "execution_count": 13,
   "metadata": {
    "collapsed": true
   },
   "outputs": [],
   "source": [
    "import os\n",
    "import re"
   ]
  },
  {
   "cell_type": "code",
   "execution_count": 14,
   "outputs": [],
   "source": [
    "BEGIN_RE = re.compile(r'digraph\\s+(\\w+)\\s+{')\n",
    "NODE_RE = re.compile(r'node\\s+\\[([\\w,=]+)\\]\\s+(\\w+)')\n",
    "CONNECT_RE = re.compile(r'(\\w+)\\s+\\-\\>\\s(\\w+)\\s+\\[([\\w=\",]+)\\]')"
   ],
   "metadata": {
    "collapsed": false,
    "pycharm": {
     "name": "#%%\n"
    }
   }
  },
  {
   "cell_type": "code",
   "execution_count": 15,
   "outputs": [],
   "source": [
    "class StateNode:\n",
    "    name = \"\"\n",
    "\n",
    "    def __init__(self, name:str):\n",
    "        self.name = name\n",
    "\n",
    "    def __repr__(self):\n",
    "        return '(' + self.name + ')'\n"
   ],
   "metadata": {
    "collapsed": false,
    "pycharm": {
     "name": "#%%\n"
    }
   }
  },
  {
   "cell_type": "code",
   "execution_count": 16,
   "outputs": [
    {
     "name": "stdout",
     "output_type": "stream",
     "text": [
      "Found statemachine \"StateMachine\"\n",
      "rankdir = LR;\n",
      "labelloc=\"t\"\n",
      "label=\"Device Status Diagram\"\n",
      "fontsize=24\n",
      "\n",
      "Found MANUFACTURED with attributes shape=circle,style=filled,color=lightblue\n",
      "Found REGISTERED with attributes shape=circle,style=filled,color=lightgreen\n",
      "Found USER_ASSOCIATED with attributes shape=circle,style=filled,color=grey\n",
      "\n",
      "Found transition from \"MANUFACTURED\" to \"REGISTERED\"\n",
      "Found transition from \"REGISTERED\" to \"USER_ASSOCIATED\"\n",
      "Found transition from \"USER_ASSOCIATED\" to \"MANUFACTURED\"\n",
      "}\n",
      "[(MANUFACTURED), (REGISTERED), (USER_ASSOCIATED)]\n"
     ]
    }
   ],
   "source": [
    "node_list = []\n",
    "\n",
    "with open('state-machine.dot', 'r') as sm:\n",
    "    line = sm.readline().strip()\n",
    "    if line:\n",
    "        matches = BEGIN_RE.match(line)\n",
    "        if matches:\n",
    "            machine_name = matches[1]\n",
    "            print('Found statemachine \"{}\"'.format(machine_name))\n",
    "\n",
    "            while True :\n",
    "                line = sm.readline() #.strip()\n",
    "                if not line:\n",
    "                    break\n",
    "                line = line.strip()\n",
    "\n",
    "                matches = NODE_RE.match(line)\n",
    "\n",
    "                if matches:\n",
    "                    node_attributes = matches[1]\n",
    "                    node_name = matches[2]\n",
    "                    print(f'Found {node_name} with attributes {node_attributes}')\n",
    "                    node_list.append(StateNode(node_name))\n",
    "                    continue\n",
    "\n",
    "                matches = CONNECT_RE.match(line)\n",
    "\n",
    "                if matches:\n",
    "                    state_1 = matches[1]\n",
    "                    state_2 = matches[2]\n",
    "                    print(f'Found transition from \\\"{state_1}\\\" to \\\"{state_2}\\\"')\n",
    "                    continue\n",
    "\n",
    "                print(line)\n",
    "        else:\n",
    "            print('Not a state machine graph')\n",
    "\n",
    "    pass\n",
    "\n",
    "print(node_list)"
   ],
   "metadata": {
    "collapsed": false,
    "pycharm": {
     "name": "#%%\n"
    }
   }
  },
  {
   "cell_type": "code",
   "execution_count": 16,
   "outputs": [],
   "source": [],
   "metadata": {
    "collapsed": false,
    "pycharm": {
     "name": "#%%\n"
    }
   }
  }
 ],
 "metadata": {
  "kernelspec": {
   "display_name": "Python 3",
   "language": "python",
   "name": "python3"
  },
  "language_info": {
   "codemirror_mode": {
    "name": "ipython",
    "version": 2
   },
   "file_extension": ".py",
   "mimetype": "text/x-python",
   "name": "python",
   "nbconvert_exporter": "python",
   "pygments_lexer": "ipython2",
   "version": "2.7.6"
  }
 },
 "nbformat": 4,
 "nbformat_minor": 0
}